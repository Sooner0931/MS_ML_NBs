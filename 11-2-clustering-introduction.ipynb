{
  "cells": [
    {
      "cell_type": "markdown",
      "source": [
        "# Clustering - Introduction\n",
        "\n",
        "In contrast to *supervised* machine learning, *unsupervised* learning is used when there is no \"ground truth\" from which to train and validate label predictions. The most common form of unsupervised learning is *clustering*, which is simllar conceptually to *classification*, except that the the training data does not include known values for the class label to be predicted. Clustering works by separating the training cases based on similarities that can be determined from their feature values. Think of it this way; the numeric features of a given entity can be thought of as vector coordinates that define the entity's position in n-dimensional space. What a clustering model seeks to do is to identify groups, or *clusters*, of entities that are close to one another while being separated from other clusters.\n",
        "\n",
        "For example, let's take a look at a dataset that contains measurements of different species of wheat seed.\n",
        "\n",
        "> **Citation**: The seeds dataset used in the this exercise was originally published by the Institute of Agrophysics of the Polish Academy of Sciences in Lublin, and can be downloaded from the UCI dataset repository (Dua, D. and Graff, C. (2019). UCI Machine Learning Repository [http://archive.ics.uci.edu/ml]. Irvine, CA: University of California, School of Information and Computer Science)."
      ],
      "metadata": {}
    },
    {
      "cell_type": "code",
      "source": [
        "import pandas as pd\n",
        "\n",
        "# load the training dataset\n",
        "!wget https://raw.githubusercontent.com/MicrosoftDocs/mslearn-introduction-to-machine-learning/main/Data/ml-basics/seeds.csv\n",
        "data = pd.read_csv('seeds.csv')\n",
        "\n",
        "# Display a random sample of 10 observations (just the features)\n",
        "features = data[data.columns[0:6]]\n",
        "features.sample(10)"
      ],
      "outputs": [
        {
          "output_type": "stream",
          "name": "stdout",
          "text": [
            "--2021-08-30 06:17:41--  https://raw.githubusercontent.com/MicrosoftDocs/mslearn-introduction-to-machine-learning/main/Data/ml-basics/seeds.csv\r\n",
            "Resolving raw.githubusercontent.com... 185.199.108.133, 185.199.109.133, 185.199.110.133, ...\r\n",
            "Connecting to raw.githubusercontent.com|185.199.108.133|:443... connected.\r\n",
            "HTTP request sent, awaiting response... 200 OK\r\n",
            "Length: 9386 (9.2K) [text/plain]\r\n",
            "Saving to: ‘seeds.csv’\r\n",
            "\r\n",
            "\rseeds.csv             0%[                    ]       0  --.-KB/s               \r",
            "seeds.csv           100%[===================>]   9.17K  --.-KB/s    in 0s      \r\n",
            "\r\n",
            "2021-08-30 06:17:41 (64.7 MB/s) - ‘seeds.csv’ saved [9386/9386]\r\n",
            "\r\n"
          ]
        },
        {
          "output_type": "execute_result",
          "execution_count": 1,
          "data": {
            "text/plain": "      area  perimeter  compactness  kernel_length  kernel_width  \\\n82   20.20      16.89       0.8894          6.285         3.864   \n43   15.50      14.86       0.8820          5.877         3.396   \n47   14.99      14.56       0.8883          5.570         3.377   \n113  19.14      16.61       0.8722          6.259         3.737   \n42   13.16      13.55       0.9009          5.138         3.201   \n120  20.24      16.91       0.8897          6.315         3.962   \n75   16.77      15.62       0.8638          5.927         3.438   \n114  20.97      17.25       0.8859          6.563         3.991   \n13   13.78      14.06       0.8759          5.479         3.156   \n115  19.06      16.45       0.8854          6.416         3.719   \n\n     asymmetry_coefficient  \n82                   5.173  \n43                   4.711  \n47                   2.958  \n113                  6.682  \n42                   2.461  \n120                  5.901  \n75                   4.920  \n114                  4.677  \n13                   3.136  \n115                  2.248  ",
            "text/html": "<div>\n<style scoped>\n    .dataframe tbody tr th:only-of-type {\n        vertical-align: middle;\n    }\n\n    .dataframe tbody tr th {\n        vertical-align: top;\n    }\n\n    .dataframe thead th {\n        text-align: right;\n    }\n</style>\n<table border=\"1\" class=\"dataframe\">\n  <thead>\n    <tr style=\"text-align: right;\">\n      <th></th>\n      <th>area</th>\n      <th>perimeter</th>\n      <th>compactness</th>\n      <th>kernel_length</th>\n      <th>kernel_width</th>\n      <th>asymmetry_coefficient</th>\n    </tr>\n  </thead>\n  <tbody>\n    <tr>\n      <th>82</th>\n      <td>20.20</td>\n      <td>16.89</td>\n      <td>0.8894</td>\n      <td>6.285</td>\n      <td>3.864</td>\n      <td>5.173</td>\n    </tr>\n    <tr>\n      <th>43</th>\n      <td>15.50</td>\n      <td>14.86</td>\n      <td>0.8820</td>\n      <td>5.877</td>\n      <td>3.396</td>\n      <td>4.711</td>\n    </tr>\n    <tr>\n      <th>47</th>\n      <td>14.99</td>\n      <td>14.56</td>\n      <td>0.8883</td>\n      <td>5.570</td>\n      <td>3.377</td>\n      <td>2.958</td>\n    </tr>\n    <tr>\n      <th>113</th>\n      <td>19.14</td>\n      <td>16.61</td>\n      <td>0.8722</td>\n      <td>6.259</td>\n      <td>3.737</td>\n      <td>6.682</td>\n    </tr>\n    <tr>\n      <th>42</th>\n      <td>13.16</td>\n      <td>13.55</td>\n      <td>0.9009</td>\n      <td>5.138</td>\n      <td>3.201</td>\n      <td>2.461</td>\n    </tr>\n    <tr>\n      <th>120</th>\n      <td>20.24</td>\n      <td>16.91</td>\n      <td>0.8897</td>\n      <td>6.315</td>\n      <td>3.962</td>\n      <td>5.901</td>\n    </tr>\n    <tr>\n      <th>75</th>\n      <td>16.77</td>\n      <td>15.62</td>\n      <td>0.8638</td>\n      <td>5.927</td>\n      <td>3.438</td>\n      <td>4.920</td>\n    </tr>\n    <tr>\n      <th>114</th>\n      <td>20.97</td>\n      <td>17.25</td>\n      <td>0.8859</td>\n      <td>6.563</td>\n      <td>3.991</td>\n      <td>4.677</td>\n    </tr>\n    <tr>\n      <th>13</th>\n      <td>13.78</td>\n      <td>14.06</td>\n      <td>0.8759</td>\n      <td>5.479</td>\n      <td>3.156</td>\n      <td>3.136</td>\n    </tr>\n    <tr>\n      <th>115</th>\n      <td>19.06</td>\n      <td>16.45</td>\n      <td>0.8854</td>\n      <td>6.416</td>\n      <td>3.719</td>\n      <td>2.248</td>\n    </tr>\n  </tbody>\n</table>\n</div>"
          },
          "metadata": {}
        }
      ],
      "execution_count": 1,
      "metadata": {}
    },
    {
      "cell_type": "markdown",
      "source": [
        "As you can see, the dataset contains six data points (or *features*) for each instance (*observation*) of a seed. So you could interpret these as coordinates that describe each instance's location in six-dimensional space.\n",
        "\n",
        "Now, of course six-dimensional space is difficult to visualise in a three-dimensional world, or on a two-dimensional plot; so we'll take advantage of a mathematical technique called *Principal Component Analysis* (PCA) to analyze the relationships between the features and summarize each observation as coordinates for two principal components - in other words, we'll translate the six-dimensional feature values into two-dimensional coordinates."
      ],
      "metadata": {}
    },
    {
      "cell_type": "code",
      "source": [
        "from sklearn.preprocessing import MinMaxScaler\n",
        "from sklearn.decomposition import PCA\n",
        "\n",
        "# Normalize the numeric features so they're on the same scale\n",
        "scaled_features = MinMaxScaler().fit_transform(features[data.columns[0:6]])\n",
        "\n",
        "# Get two principal components\n",
        "pca = PCA(n_components=2).fit(scaled_features)\n",
        "features_2d = pca.transform(scaled_features)\n",
        "features_2d[0:10]"
      ],
      "outputs": [
        {
          "output_type": "execute_result",
          "execution_count": 2,
          "data": {
            "text/plain": "array([[ 0.11883593, -0.09382469],\n       [ 0.0696878 , -0.31077233],\n       [-0.03499184, -0.37044705],\n       [-0.06582089, -0.36365235],\n       [ 0.32594892, -0.37695797],\n       [-0.02455447, -0.31060184],\n       [-0.00769646, -0.07594931],\n       [-0.05646955, -0.26696284],\n       [ 0.38196305, -0.05149471],\n       [ 0.35701044, -0.17697998]])"
          },
          "metadata": {}
        }
      ],
      "execution_count": 2,
      "metadata": {}
    },
    {
      "cell_type": "markdown",
      "source": [
        "Now that we have the data points translated to two dimensions, we can visualize them in a plot:"
      ],
      "metadata": {}
    },
    {
      "cell_type": "code",
      "source": [
        "import matplotlib.pyplot as plt\n",
        "\n",
        "%matplotlib inline\n",
        "\n",
        "plt.scatter(features_2d[:,0],features_2d[:,1])\n",
        "plt.xlabel('Dimension 1')\n",
        "plt.ylabel('Dimension 2')\n",
        "plt.title('Data')\n",
        "plt.show()"
      ],
      "outputs": [
        {
          "output_type": "stream",
          "name": "stderr",
          "text": [
            "Matplotlib is building the font cache; this may take a moment.\n"
          ]
        },
        {
          "output_type": "display_data",
          "data": {
            "text/plain": "<Figure size 432x288 with 1 Axes>",
            "image/png": "[encoded data removed]"
          },
          "metadata": {
            "needs_background": "light"
          }
        }
      ],
      "execution_count": 3,
      "metadata": {}
    },
    {
      "cell_type": "markdown",
      "source": [
        "Hopefully you can see at least two, arguably three, reasonably distinct groups of data points; but here lies one of the fundamental problems with clustering - without known class labels, how do you know how many clusters to separate your data into?\n",
        "\n",
        "One way we can try to find out is to use a data sample to create a series of clustering models with an incrementing number of clusters, and measure how tightly the data points are grouped within each cluster. A metric often used to measure this tightness is the *within cluster sum of squares* (WCSS), with lower values meaning that the data points are closer. You can then plot the WCSS for each model."
      ],
      "metadata": {}
    },
    {
      "cell_type": "code",
      "source": [
        "#importing the libraries\n",
        "import numpy as np\n",
        "import matplotlib.pyplot as plt\n",
        "from sklearn.cluster import KMeans\n",
        "%matplotlib inline\n",
        "\n",
        "# Create 10 models with 1 to 10 clusters\n",
        "wcss = []\n",
        "for i in range(1, 11):\n",
        "    kmeans = KMeans(n_clusters = i)\n",
        "    # Fit the data points\n",
        "    kmeans.fit(features.values)\n",
        "    # Get the WCSS (inertia) value\n",
        "    wcss.append(kmeans.inertia_)\n",
        "    \n",
        "#Plot the WCSS values onto a line graph\n",
        "plt.plot(range(1, 11), wcss)\n",
        "plt.title('WCSS by Clusters')\n",
        "plt.xlabel('Number of clusters')\n",
        "plt.ylabel('WCSS')\n",
        "plt.show()"
      ],
      "outputs": [
        {
          "output_type": "display_data",
          "data": {
            "text/plain": "<Figure size 432x288 with 1 Axes>",
            "image/png": "[encoded data removed]"
          },
          "metadata": {
            "needs_background": "light"
          }
        }
      ],
      "execution_count": 4,
      "metadata": {}
    },
    {
      "cell_type": "markdown",
      "source": [
        "The plot shows a large reduction in WCSS (so greater *tightness*) as the number of clusters increases from one to two, and a further noticable reduction from two to three clusters. After that, the reduction is less pronounced, resulting in an \"elbow\" in the chart at around three clusters. This is a good indication that there are two to three reasonably well separated clusters of data points.\n",
        "\n",
        "## Summary\n",
        "\n",
        "Here we looked at what clustering means, and how to determine whether clustering might be appropriate for your data. In the next notebook, we will look at two ways of \n",
        "labelling the data automatically."
      ],
      "metadata": {}
    }
  ],
  "metadata": {
    "kernelspec": {
      "name": "conda-env-py37_default-py",
      "language": "python",
      "display_name": "py37_default"
    },
    "language_info": {
      "name": "python",
      "version": "3.7.9",
      "mimetype": "text/x-python",
      "codemirror_mode": {
        "name": "ipython",
        "version": 3
      },
      "pygments_lexer": "ipython3",
      "nbconvert_exporter": "python",
      "file_extension": ".py"
    },
    "kernel_info": {
      "name": "conda-env-py37_default-py"
    },
    "nteract": {
      "version": "nteract-front-end@1.0.0"
    }
  },
  "nbformat": 4,
  "nbformat_minor": 2
}